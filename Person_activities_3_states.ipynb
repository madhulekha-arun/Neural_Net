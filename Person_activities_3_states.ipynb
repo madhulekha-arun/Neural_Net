{
 "cells": [
  {
   "cell_type": "code",
   "execution_count": 14,
   "metadata": {
    "collapsed": true
   },
   "outputs": [],
   "source": [
    "import numpy as np\n",
    "from numpy import exp, array, random, dot\n",
    "from numpy import genfromtxt\n",
    "from sklearn import preprocessing\n",
    "import math\n",
    "from datetime import datetime\n",
    "\n",
    "class NeuralNetwork():\n",
    "    def __init__(self):\n",
    "        random.seed(1)\n",
    "        self.synaptic_weights = 2 * random.random((3, 1)) - 1\n",
    "\n",
    "    def __sigmoid(self, x):\n",
    "        return 1 / (1 + exp(-x))\n",
    "\n",
    "    def __sigmoid_derivative(self, x):\n",
    "        return x * (1 - x)\n",
    "\n",
    "    def train(self, training_set_inputs, training_set_outputs, number_of_training_iterations):\n",
    "        for iteration in xrange(number_of_training_iterations):\n",
    "\n",
    "            output = self.think(training_set_inputs)\n",
    "\n",
    "            error = training_set_outputs - output\n",
    "\n",
    "            # Multiply the error by the input and again by the gradient of the Sigmoid curve.\n",
    "            # This means less confident weights are adjusted more.\n",
    "            # This means inputs, which are zero, do not cause changes to the weights.\n",
    "            adjustment = dot(training_set_inputs.T, error * self.__sigmoid_derivative(output))\n",
    "\n",
    "            # Adjust the weights.\n",
    "            self.synaptic_weights += adjustment\n",
    "\n",
    "    def think(self, inputs):\n",
    "        # Pass inputs through our neural network (our single neuron).\n",
    "        return self.__sigmoid(dot(inputs, self.synaptic_weights))\n",
    "\n",
    "\n"
   ]
  },
  {
   "cell_type": "markdown",
   "metadata": {},
   "source": [
    "<h2>Reading input</h2>"
   ]
  },
  {
   "cell_type": "code",
   "execution_count": 9,
   "metadata": {
    "collapsed": false
   },
   "outputs": [],
   "source": [
    "input_raw = genfromtxt('A01.txt', delimiter=',',dtype='str')\n",
    "input = input_raw[np.where(input_raw[:,1]=='020-000-033-111')]\n",
    "input = input[:,(2,4,5,6,7)]\n",
    "walk=np.where(input[:,4]=='walking')[0]\n",
    "sit=np.where(input[:,4]=='sitting')[0]\n",
    "lay=np.where(input[:,4]=='lying')[0]\n",
    "attr=walk.tolist()\n",
    "attr.extend(sit.tolist())\n",
    "attr.extend(lay.tolist())\n",
    "input=input[attr]"
   ]
  },
  {
   "cell_type": "markdown",
   "metadata": {},
   "source": [
    "<h2>Encoding the postures to numerical values</h2>"
   ]
  },
  {
   "cell_type": "code",
   "execution_count": 10,
   "metadata": {
    "collapsed": false
   },
   "outputs": [
    {
     "data": {
      "text/plain": [
       "[(0, 'lying'), (1, 'sitting'), (2, 'walking')]"
      ]
     },
     "execution_count": 10,
     "metadata": {},
     "output_type": "execute_result"
    }
   ],
   "source": [
    "encoding = preprocessing.LabelEncoder()  \n",
    "input[:, 4] = encoding.fit_transform(input[:, 4])\n",
    "mapping=[]\n",
    "for i in sorted(set(input[:,4].astype(float))):\n",
    "    mapping.append((int(i),encoding.inverse_transform(int(i))),)\n",
    "input = sorted(input, key = lambda a_entry: a_entry[0]) \n",
    "input = np.array(input)\n",
    "input = input[:,(1,2,3,4)]\n",
    "input = input.astype(float)\n",
    "mapping"
   ]
  },
  {
   "cell_type": "markdown",
   "metadata": {},
   "source": [
    "<h2>Splitting data into training and testing</h2>"
   ]
  },
  {
   "cell_type": "code",
   "execution_count": 15,
   "metadata": {
    "collapsed": false
   },
   "outputs": [
    {
     "name": "stdout",
     "output_type": "stream",
     "text": [
      "Total     (1145, 4)\n",
      "Training  (801, 3)  Label  (801,)\n",
      "Testing   (344, 3)   Label  (344,) \n",
      "\n",
      "[[ 4.29195356  1.78114045  1.3444953   2.        ]\n",
      " [ 4.36407709  1.76769149  1.29999638  2.        ]\n",
      " [ 4.24491358  1.98168194  1.30875885  2.        ]]\n"
     ]
    }
   ],
   "source": [
    "train_rows = int(math.floor(0.7* input.shape[0]))\n",
    "test_rows = input.shape[0] - train_rows\n",
    "    \n",
    "# separate out training and testing data\n",
    "trainX = input[:train_rows,:-1]\n",
    "trainZ = input[:train_rows,-1]\n",
    "trainZ=trainZ.astype(int)\n",
    "testX = input[train_rows:,:-1]\n",
    "testZ = input[train_rows:,-1]\n",
    "testZ=testZ.astype(int)\n",
    "\n",
    "print \"Total    \",input.shape\n",
    "print \"Training \",trainX.shape,\" Label \",trainZ.shape\n",
    "print \"Testing  \",testX.shape,\"  Label \",testZ.shape,\"\\n\"\n",
    "print input[:3,:]"
   ]
  },
  {
   "cell_type": "code",
   "execution_count": null,
   "metadata": {
    "collapsed": false
   },
   "outputs": [],
   "source": [
    "neural_network = NeuralNetwork()\n",
    "print \"Random starting synaptic weights: \"\n",
    "print neural_network.synaptic_weights\n",
    "\n",
    "#training_set_inputs = array([[0, 0, 1], [1, 1, 1], [1, 0, 1], [0, 1, 1]])\n",
    "#training_set_outputs = array([[0, 1, 1, 0]]).T\n",
    "\n",
    "# Train the neural network using a training set.\n",
    "# Do it 10,000 times and make small adjustments each time.\n",
    "trainZ = trainZ.reshape(trainZ.shape[0],1)\n",
    "neural_network.train(trainX, trainZ, 10000)\n",
    "\n",
    "print \"New synaptic weights after training: \"\n",
    "print neural_network.synaptic_weights\n",
    "\n",
    "# Test the neural network with a new situation.\n",
    "#print \"Considering new situation [1, 0, 0] -> ?: \"\n",
    "#print neural_network.think(array([1, 0, 0]))"
   ]
  },
  {
   "cell_type": "code",
   "execution_count": null,
   "metadata": {
    "collapsed": true
   },
   "outputs": [],
   "source": [
    "# Test the neural network with a new situation.\n",
    "print \"Considering new situation [1, 0, 0] -> ?: \"\n",
    "neural_network.think(array([1, 0, 0]))"
   ]
  },
  {
   "cell_type": "code",
   "execution_count": 16,
   "metadata": {
    "collapsed": true
   },
   "outputs": [],
   "source": [
    "training_set_inputs = array([[0, 0, 1], [1, 1, 1], [1, 0, 1], [0, 1, 1]])\n",
    "training_set_outputs = array([[0, 1, 1, 0]]).T"
   ]
  },
  {
   "cell_type": "code",
   "execution_count": 17,
   "metadata": {
    "collapsed": false
   },
   "outputs": [
    {
     "data": {
      "text/plain": [
       "(4, 3)"
      ]
     },
     "execution_count": 17,
     "metadata": {},
     "output_type": "execute_result"
    }
   ],
   "source": [
    "training_set_inputs.shape"
   ]
  },
  {
   "cell_type": "code",
   "execution_count": 18,
   "metadata": {
    "collapsed": false
   },
   "outputs": [
    {
     "data": {
      "text/plain": [
       "(4, 1)"
      ]
     },
     "execution_count": 18,
     "metadata": {},
     "output_type": "execute_result"
    }
   ],
   "source": [
    "training_set_outputs.shape"
   ]
  },
  {
   "cell_type": "code",
   "execution_count": 20,
   "metadata": {
    "collapsed": false
   },
   "outputs": [
    {
     "data": {
      "text/plain": [
       "(801, 3)"
      ]
     },
     "execution_count": 20,
     "metadata": {},
     "output_type": "execute_result"
    }
   ],
   "source": [
    "trainX.shape"
   ]
  },
  {
   "cell_type": "code",
   "execution_count": 21,
   "metadata": {
    "collapsed": false
   },
   "outputs": [
    {
     "data": {
      "text/plain": [
       "(801,)"
      ]
     },
     "execution_count": 21,
     "metadata": {},
     "output_type": "execute_result"
    }
   ],
   "source": [
    "trainZ.shape"
   ]
  },
  {
   "cell_type": "code",
   "execution_count": 23,
   "metadata": {
    "collapsed": false
   },
   "outputs": [],
   "source": [
    "t = trainZ.reshape(801,1)"
   ]
  },
  {
   "cell_type": "code",
   "execution_count": 24,
   "metadata": {
    "collapsed": false
   },
   "outputs": [
    {
     "data": {
      "text/plain": [
       "(801, 1)"
      ]
     },
     "execution_count": 24,
     "metadata": {},
     "output_type": "execute_result"
    }
   ],
   "source": [
    "t.shape"
   ]
  },
  {
   "cell_type": "code",
   "execution_count": 26,
   "metadata": {
    "collapsed": false
   },
   "outputs": [
    {
     "data": {
      "text/plain": [
       "array([[2],\n",
       "       [2]])"
      ]
     },
     "execution_count": 26,
     "metadata": {},
     "output_type": "execute_result"
    }
   ],
   "source": [
    "t[:2,:]"
   ]
  },
  {
   "cell_type": "code",
   "execution_count": null,
   "metadata": {
    "collapsed": true
   },
   "outputs": [],
   "source": []
  }
 ],
 "metadata": {
  "anaconda-cloud": {},
  "kernelspec": {
   "display_name": "Python 2",
   "language": "python",
   "name": "python2"
  },
  "language_info": {
   "codemirror_mode": {
    "name": "ipython",
    "version": 2
   },
   "file_extension": ".py",
   "mimetype": "text/x-python",
   "name": "python",
   "nbconvert_exporter": "python",
   "pygments_lexer": "ipython2",
   "version": "2.7.12"
  }
 },
 "nbformat": 4,
 "nbformat_minor": 0
}
