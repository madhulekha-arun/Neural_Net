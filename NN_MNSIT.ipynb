{
 "cells": [
  {
   "cell_type": "code",
   "execution_count": 1,
   "metadata": {
    "collapsed": false
   },
   "outputs": [
    {
     "name": "stdout",
     "output_type": "stream",
     "text": [
      "Successfully downloaded train-images-idx3-ubyte.gz 9912422 bytes.\n",
      "Extracting MNIST_data/train-images-idx3-ubyte.gz\n",
      "Successfully downloaded train-labels-idx1-ubyte.gz 28881 bytes.\n",
      "Extracting MNIST_data/train-labels-idx1-ubyte.gz\n",
      "Successfully downloaded t10k-images-idx3-ubyte.gz 1648877 bytes.\n",
      "Extracting MNIST_data/t10k-images-idx3-ubyte.gz\n",
      "Successfully downloaded t10k-labels-idx1-ubyte.gz 4542 bytes.\n",
      "Extracting MNIST_data/t10k-labels-idx1-ubyte.gz\n"
     ]
    }
   ],
   "source": [
    "#collecting the data\n",
    "from tensorflow.examples.tutorials.mnist import input_data\n",
    "\n",
    "mnist = input_data.read_data_sets(\"MNIST_data/\", one_hot=True)"
   ]
  },
  {
   "cell_type": "code",
   "execution_count": 25,
   "metadata": {
    "collapsed": false
   },
   "outputs": [],
   "source": [
    "import tensorflow as tf\n",
    "x = tf.placeholder(tf.float32, [None, 784])\n",
    "W = tf.Variable(tf.zeros([784, 10]))\n",
    "b = tf.Variable(tf.zeros([10]))\n",
    "\n",
    "#nn output predicted\n",
    "y = tf.nn.softmax(tf.matmul(x, W) + b)\n",
    "\n",
    "#original values\n",
    "y_ = tf.placeholder(tf.float32, [None, 10])\n",
    "\n",
    "#similar to loss function\n",
    "cross_entropy = tf.reduce_mean(-tf.reduce_sum(y_ * tf.log(y), reduction_indices=[1]))\n",
    "\n",
    "#train\n",
    "train_step = tf.train.GradientDescentOptimizer(0.5).minimize(cross_entropy)\n",
    "\n",
    "#start session\n",
    "sess = tf.InteractiveSession()\n",
    "tf.global_variables_initializer().run()\n",
    "\n",
    "for _ in range(1000):\n",
    "  batch = mnist.train.next_batch(100)\n",
    "  sess.run(train_step, feed_dict={x: batch[0], y_: batch[1]})\n",
    "    "
   ]
  },
  {
   "cell_type": "code",
   "execution_count": 26,
   "metadata": {
    "collapsed": false
   },
   "outputs": [
    {
     "name": "stdout",
     "output_type": "stream",
     "text": [
      "0.9199\n"
     ]
    }
   ],
   "source": [
    "correct_prediction = tf.equal(tf.argmax(y,1), tf.argmax(y_,1))\n",
    "accuracy = tf.reduce_mean(tf.cast(correct_prediction, tf.float32))\n",
    "print(sess.run(accuracy, feed_dict={x: mnist.test.images, y_: mnist.test.labels}))"
   ]
  },
  {
   "cell_type": "code",
   "execution_count": 21,
   "metadata": {
    "collapsed": true
   },
   "outputs": [],
   "source": [
    "temp = tf.matmul(x, W) + b\n",
    "temp2 = -tf.reduce_sum(y_ * tf.log(y), reduction_indices=[1])"
   ]
  },
  {
   "cell_type": "code",
   "execution_count": 23,
   "metadata": {
    "collapsed": false
   },
   "outputs": [
    {
     "data": {
      "text/plain": [
       "<tf.Tensor 'Neg_1:0' shape=(?,) dtype=float32>"
      ]
     },
     "execution_count": 23,
     "metadata": {},
     "output_type": "execute_result"
    }
   ],
   "source": [
    "temp2"
   ]
  },
  {
   "cell_type": "code",
   "execution_count": 24,
   "metadata": {
    "collapsed": false
   },
   "outputs": [
    {
     "data": {
      "text/plain": [
       "array([  2.58191586e-01,   8.10386315e-02,   3.52351159e-01,\n",
       "         1.30981738e-02,   1.12661570e-02,   4.39729206e-02,\n",
       "         1.35125581e-03,   8.14183801e-02,   4.60934360e-03,\n",
       "         6.54480391e-05,   1.38676912e-03,   2.53222836e-03,\n",
       "         5.52730588e-03,   2.13562753e-02,   8.28251417e-04,\n",
       "         4.98776848e-04,   1.19649641e-01,   7.30307819e-03,\n",
       "         4.07911301e-01,   9.86163542e-02,   6.19323477e-02,\n",
       "         7.46573582e-02,   1.66893142e-06,   1.01373298e-03,\n",
       "         1.68746397e-01,   7.88880570e-04,   6.77870438e-02,\n",
       "         6.69558253e-03,   3.37557048e-02,   5.92672229e-01,\n",
       "         5.71168354e-03,   4.96179342e-01,   1.35966418e-02,\n",
       "         1.92292288e-01,   7.15460703e-02,   2.92005902e-03,\n",
       "         2.18355469e-03,   1.36420783e-02,   1.47838429e-01,\n",
       "         2.62388084e-02,   9.81270522e-02,   2.30356678e-02,\n",
       "         2.38506618e-04,   1.32266339e-02,   4.58891988e-01,\n",
       "         4.06283498e-01,   2.73097660e-02,   6.73583075e-02,\n",
       "         6.50358433e-03,   6.03443563e-01,   7.49854516e-05,\n",
       "         1.30946815e-01,   1.71405777e-01,   1.62170306e-01,\n",
       "         4.41361452e-03,   8.00006017e-02,   2.20456813e-02,\n",
       "         4.43199463e-03,   1.33122134e+00,   1.53623743e-03,\n",
       "         5.37654579e-01,   8.20961893e-02,   1.45271281e-02,\n",
       "         5.66709675e-02,   1.39590492e-02,   6.00914240e-01,\n",
       "         4.26670862e-03,   1.45662576e-02,   1.84338346e-01,\n",
       "         1.19755521e-01,   4.90854144e-01,   4.39750999e-02,\n",
       "         5.82194552e-02,   5.06283641e-01,   8.84029490e-04,\n",
       "         5.77339232e-02,   6.68221191e-02,   5.43991327e-02,\n",
       "         9.94204402e-01,   2.76820034e-01,   1.42107572e-04,\n",
       "         2.73364395e-01,   1.11339111e-02,   5.85846778e-04,\n",
       "         4.75551225e-02,   5.70947587e-01,   1.65002242e-01,\n",
       "         2.89668571e-02,   3.07249516e-04,   6.44449284e-03,\n",
       "         5.15127182e-01,   1.10335033e-02,   2.20141537e-03,\n",
       "         5.63081913e-03,   1.53741658e+00,   1.14089795e-04,\n",
       "         1.97558757e-02,   3.38384390e-01,   2.91203838e-02,\n",
       "         2.27809902e-02], dtype=float32)"
      ]
     },
     "execution_count": 24,
     "metadata": {},
     "output_type": "execute_result"
    }
   ],
   "source": [
    "sess.run(temp2, {x:batch_xs,y_: batch_ys})"
   ]
  },
  {
   "cell_type": "code",
   "execution_count": 19,
   "metadata": {
    "collapsed": false
   },
   "outputs": [],
   "source": [
    "import numpy as np\n",
    "k = np.array([ -7.14078808e+00,  -2.37498188e+00,  -1.19743252e+00,\n",
    "         -2.93194509e+00,   4.99254513e+00,  -3.56796646e+00,\n",
    "         -2.59964824e-01,   2.57657981e+00,   3.42241836e+00,\n",
    "          6.48152304e+00])\n",
    "l = np.array([  9.37075299e-07,   1.10036766e-04,   3.57224140e-04,\n",
    "          6.30451177e-05,   1.74266502e-01,   3.33757307e-05,\n",
    "          9.12174233e-04,   1.55587066e-02,   3.62507142e-02,\n",
    "          7.72447228e-01])"
   ]
  },
  {
   "cell_type": "code",
   "execution_count": 20,
   "metadata": {
    "collapsed": false
   },
   "outputs": [
    {
     "data": {
      "text/plain": [
       "0.99999994386269897"
      ]
     },
     "execution_count": 20,
     "metadata": {},
     "output_type": "execute_result"
    }
   ],
   "source": [
    "l.sum()"
   ]
  },
  {
   "cell_type": "code",
   "execution_count": null,
   "metadata": {
    "collapsed": true
   },
   "outputs": [],
   "source": []
  }
 ],
 "metadata": {
  "anaconda-cloud": {},
  "kernelspec": {
   "display_name": "Python [py3k]",
   "language": "python",
   "name": "Python [py3k]"
  },
  "language_info": {
   "codemirror_mode": {
    "name": "ipython",
    "version": 3
   },
   "file_extension": ".py",
   "mimetype": "text/x-python",
   "name": "python",
   "nbconvert_exporter": "python",
   "pygments_lexer": "ipython3",
   "version": "3.5.2"
  }
 },
 "nbformat": 4,
 "nbformat_minor": 0
}
